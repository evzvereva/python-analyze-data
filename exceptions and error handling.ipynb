{
  "cells": [
    {
      "cell_type": "markdown",
      "metadata": {
        "id": "C1e78mPWcorc"
      },
      "source": [
        "# Задание 1\n",
        "Печатные газеты использовали свой формат дат для каждого выпуска. Для каждой газеты из списка напишите формат указанной даты для перевода в объект datetime:\n",
        "\n",
        "The Moscow Times - Wednesday, October 2, 2002\n",
        "\n",
        "The Guardian - Friday, 11.10.13\n",
        "\n",
        "Daily News - Thursday, 18 August 1977"
      ]
    },
    {
      "cell_type": "code",
      "execution_count": null,
      "metadata": {
        "colab": {
          "base_uri": "https://localhost:8080/"
        },
        "id": "jvv2LJoxceeX",
        "outputId": "388402d0-31da-43fb-e77d-9a9daac09e7a"
      },
      "outputs": [
        {
          "output_type": "stream",
          "name": "stdout",
          "text": [
            "The Moscow Times - Wednesday 2002-10-02 00:00:00\n",
            "The Guardian - Friday 2013-10-11 00:00:00\n",
            "Daily News - Thursday 1977-08-18 00:00:00\n"
          ]
        }
      ],
      "source": [
        "from datetime import datetime\n",
        "\n",
        "\n",
        "def convert_date(date_):\n",
        "    \"\"\"\n",
        "    Функция позволяет перебрать варианты дат для дальнейшего преобразования в \n",
        "    формат datetime\"\"\"\n",
        "    try:\n",
        "        return datetime.strptime(date_, '%B %d %Y')\n",
        "    except:\n",
        "        try:\n",
        "            return datetime.strptime(date_, '%d.%m.%y')\n",
        "        except:\n",
        "            return datetime.strptime(date_, '%d %B %Y')\n",
        "        \n",
        "\n",
        "list_newspaper_release_dates = ['The Moscow Times - Wednesday, October 2, 2002', \n",
        "                                'The Guardian - Friday, 11.10.13', \n",
        "                                'Daily News - Thursday, 18 August 1977']\n",
        "\n",
        "for newspaper_release_dates in list_newspaper_release_dates:\n",
        "    new_list_newspaper_release_dates = newspaper_release_dates.split(', ') #  разделение данных по запятой получаем список\n",
        "    str_release_dates = ' '.join(str(x) for x in new_list_newspaper_release_dates[1:]) #  получаем даты без запятой в виде строки\n",
        "    result_newspaper_release_dates = f'{new_list_newspaper_release_dates[0]} {convert_date(str_release_dates)}'\n",
        "    print(result_newspaper_release_dates)\n",
        "    "
      ]
    },
    {
      "cell_type": "markdown",
      "metadata": {
        "id": "T_E6wR1Zcrnf"
      },
      "source": [
        "# Задание 2\n",
        "Дан поток дат в формате YYYY-MM-DD, в которых встречаются некорректные значения:\n",
        "```stream = [‘2018-04-02’, ‘2018-02-29’, ‘2018-19-02’]```\n",
        "\n",
        "Напишите функцию, которая проверяет эти даты на корректность. Т. е. для каждой даты возвращает True (дата корректна) или False (некорректная дата)."
      ]
    },
    {
      "cell_type": "code",
      "execution_count": null,
      "metadata": {
        "colab": {
          "base_uri": "https://localhost:8080/"
        },
        "id": "p7fn2egNcyse",
        "outputId": "6c93bd39-ebb3-49b6-e7fc-92e6beadf8c2"
      },
      "outputs": [
        {
          "name": "stdout",
          "output_type": "stream",
          "text": [
            "2018-04-02 - True\n",
            "2018-02-29 - False\n",
            "2018-19-02 - False\n"
          ]
        }
      ],
      "source": [
        "stream = ['2018-04-02', '2018-02-29', '2018-19-02']\n",
        "\n",
        "def convert(date_):\n",
        "    \"\"\"\n",
        "    Функция проверяет дату на корректность.\"\"\"\n",
        "    try:\n",
        "        datetime.strptime(date_, '%Y-%m-%d')\n",
        "        return True\n",
        "    except ValueError:\n",
        "        return False\n",
        "\n",
        "for str_date in stream:\n",
        "    print(f'{str_date} - {convert(str_date)}')\n"
      ]
    },
    {
      "cell_type": "markdown",
      "metadata": {
        "id": "9oo0lETPczDy"
      },
      "source": [
        "# Задание 3\n",
        "Напишите функцию date_range, которая возвращает список дат за период от start_date до end_date. Даты должны вводиться в формате YYYY-MM-DD. В случае неверного формата или при start_date > end_date должен возвращаться пустой список."
      ]
    },
    {
      "cell_type": "code",
      "execution_count": null,
      "metadata": {
        "colab": {
          "base_uri": "https://localhost:8080/"
        },
        "id": "C5-DPmEdc2Ex",
        "outputId": "11adc731-8f83-44b2-c923-c9520cc0d06d"
      },
      "outputs": [
        {
          "output_type": "stream",
          "name": "stdout",
          "text": [
            "[]\n"
          ]
        }
      ],
      "source": [
        "from datetime import timedelta, date\n",
        "\n",
        "a = '2000-25-01'\n",
        "b = '2000-01-15'\n",
        "\n",
        "def date_range(start_date, end_date):\n",
        "    \"\"\"\n",
        "    Функция, которая возвращает список дат за период от start_date до end_date\n",
        "    \"\"\"\n",
        "\n",
        "    empty_list = [] # пустой список\n",
        "    date_list = [] # список для заполнения датами\n",
        "\n",
        "    try:\n",
        "        # преобразование дат из типа строки в тип datetime\n",
        "        start_date = datetime.strptime(start_date, '%Y-%m-%d').date()\n",
        "        end_date = datetime.strptime(end_date, '%Y-%m-%d').date()\n",
        "    except:\n",
        "        return empty_list\n",
        "\n",
        "    # от начальной и до конечной даты получаем список дат\n",
        "    while start_date < end_date:\n",
        "        start_date = start_date + timedelta(days=1)\n",
        "        date_list.append(str(start_date))\n",
        "\n",
        "    return date_list\n",
        "\n",
        "print(date_range(a, b))\n"
      ]
    },
    {
      "cell_type": "markdown",
      "metadata": {
        "id": "a_6DoRKHc2hW"
      },
      "source": [
        "# Задание 4 (необязательное)\n",
        "Ваш коллега прислал код функции:\n",
        "```\n",
        "DEFAULT_USER_COUNT = 3\n",
        "\n",
        "def delete_and_return_last_user(region, default_list=[‘A100’, ‘A101’, ‘A102’]):\n",
        "```\n",
        "\"\"\"\n",
        "Удаляет из списка default_list последнего пользователя\n",
        "и возвращает ID нового последнего пользователя.\n",
        "\"\"\"\n",
        "```\n",
        "element_to_delete = default_list[-1]\n",
        "default_list.remove(element_to_delete)\n",
        "```\n",
        "\n",
        "1 return default_list[DEFAULT_USER_COUNT-2]\n",
        "\n",
        "При однократном вызове этой функции все работает корректно:\n",
        "```\n",
        "delete_and_return_last_user(1)\n",
        "```\n",
        "'A101'\n",
        "\n",
        "Однако, при повторном вызове получается ошибка IndexError: list index out of range.\n",
        "\n",
        "Задание:\n",
        "\n",
        "1.   Что значит ошибка list index out of range?\n",
        "2.   Почему при первом запуске функция работает корректно, а при втором - нет?\n",
        "\n"
      ]
    },
    {
      "cell_type": "code",
      "source": [
        "DEFAULT_USER_COUNT = 3\n",
        "\n",
        "def delete_and_return_last_user(region, default_list=['A100', 'A101', 'A102']):\n",
        "    \"\"\"\n",
        "    Удаляет из списка default_list последнего пользователя и возвращает ID нового \n",
        "    последнего пользователя. \n",
        "    \"\"\"\n",
        "    element_to_delete = default_list[-1]\n",
        "    default_list.remove(element_to_delete)\n",
        "    return default_list[DEFAULT_USER_COUNT-2]\n",
        "\n",
        "print(delete_and_return_last_user(1))\n",
        "\n",
        "\"\"\"\n",
        "1. Ошибка возникает в случае, когда индекс выходит за пределы списка, т.е. такого \n",
        "индекса нет в списке.\n",
        "2. При вызове функции передается 1 в качестве аргумента region, но никак не \n",
        "используется в коде.\n",
        "\n",
        "При повторном вызове функции ошибка не возникает, данные остаются прежними, так \n",
        "как по умолчанию список тот же, что и прежде. Вероятно коллега не полный код \n",
        "функции отправил.\n",
        "\"\"\""
      ],
      "metadata": {
        "id": "szEHhoZ6TMC9",
        "colab": {
          "base_uri": "https://localhost:8080/",
          "height": 70
        },
        "outputId": "9047eb77-fceb-4fb8-ee9f-09af251d4a22"
      },
      "execution_count": null,
      "outputs": [
        {
          "output_type": "stream",
          "name": "stdout",
          "text": [
            "A101\n"
          ]
        },
        {
          "output_type": "execute_result",
          "data": {
            "text/plain": [
              "'\\n1. Ошибка возникает в случае, когда индекс выходит за пределы списка, т.е. такого \\nиндекса нет в списке.\\n2. При вызове функции передается 1 в качестве аргумента region, но никак не \\nиспользуется в коде.\\n\\nПри повторном вызове функции ошибка не возникает, данные остаются прежними, так \\nкак по умолчанию список тот же, что и прежде. Вероятно коллега не полный код \\nфункции отправил.\\n'"
            ],
            "application/vnd.google.colaboratory.intrinsic+json": {
              "type": "string"
            }
          },
          "metadata": {},
          "execution_count": 54
        }
      ]
    }
  ],
  "metadata": {
    "colab": {
      "provenance": []
    },
    "kernelspec": {
      "display_name": "Python 3",
      "name": "python3"
    },
    "language_info": {
      "name": "python"
    }
  },
  "nbformat": 4,
  "nbformat_minor": 0
}