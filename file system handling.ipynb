{
  "cells": [
    {
      "cell_type": "code",
      "execution_count": null,
      "metadata": {
        "id": "qzVfXcBCbZt1"
      },
      "outputs": [],
      "source": [
        "import json"
      ]
    },
    {
      "cell_type": "markdown",
      "source": [
        "### 1. Переведите содержимое файла purchase_log.txt в словарь purchases вида:\n",
        "{‘1840e0b9d4’: ‘Продукты’, …} "
      ],
      "metadata": {
        "id": "zClE0angyyOr"
      }
    },
    {
      "cell_type": "code",
      "execution_count": null,
      "metadata": {
        "id": "cw-9EsBEc---"
      },
      "outputs": [],
      "source": [
        "dict_ = {}\n",
        "\n",
        "with open('purchase_log.txt', 'r', encoding='utf-8') as f:\n",
        "    f.readline()\n",
        "    for line in f:\n",
        "        line = line.strip()\n",
        "        dict_catigory_user = json.loads(line)\n",
        "        dict_[dict_catigory_user['user_id']] = dict_catigory_user['category']\n"
      ]
    },
    {
      "cell_type": "markdown",
      "source": [
        "### 2. Для каждого user_id в файле visit_log.csv определите третий столбец с категорией покупки (если покупка была, сам файл visit_log.csv изменять не надо). \n",
        "Запишите в файл funnel.csv визиты из файла visit_log.csv, в которых были покупки с указанием категории.\n",
        "Учтите условия на данные:\n",
        "* содержимое purchase_log.txt помещается в оперативную память компьютера\n",
        "* содержимое visit_log.csv - нет; используйте только построчную обработку этого файла"
      ],
      "metadata": {
        "id": "ZTEcMpIrzAc9"
      }
    },
    {
      "cell_type": "code",
      "source": [
        "with open('visit_log.csv', 'r', encoding='utf-8') as f2:\n",
        "    with open('funnel.csv', 'w', encoding='utf-8') as f3:\n",
        "        for line_visit in f2:\n",
        "            line_visit = line_visit.strip().split(',')\n",
        "            if line_visit[0] in dict_.keys():\n",
        "                result = f'{line_visit[0]}, {line_visit[1]}, {dict_.get(line_visit[0])} \\n'\n",
        "                f3.write(result)\n"
      ],
      "metadata": {
        "id": "X1wOsMalzADi"
      },
      "execution_count": null,
      "outputs": []
    }
  ],
  "metadata": {
    "colab": {
      "provenance": []
    },
    "kernelspec": {
      "display_name": "Python 3",
      "name": "python3"
    },
    "language_info": {
      "name": "python"
    }
  },
  "nbformat": 4,
  "nbformat_minor": 0
}