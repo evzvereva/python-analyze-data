{
  "nbformat": 4,
  "nbformat_minor": 0,
  "metadata": {
    "colab": {
      "provenance": []
    },
    "kernelspec": {
      "name": "python3",
      "display_name": "Python 3"
    },
    "language_info": {
      "name": "python"
    }
  },
  "cells": [
    {
      "cell_type": "markdown",
      "source": [
        "**Задание 1**\n",
        "\n",
        "Дана переменная, в которой хранится словарь, содержащий гео-метки для каждого пользователя (пример структуры данных приведен ниже). Вам необходимо написать программу, которая выведет на экран множество уникальных гео-меток всех пользователей.\n",
        "\n",
        "Пример работы программы:\n",
        "```\n",
        "ids = {'user1': [213, 213, 213, 15, 213], \n",
        "       'user2': [54, 54, 119, 119, 119], \n",
        "       'user3': [213, 98, 98, 35]}\n",
        "Результат: {98, 35, 15, 213, 54, 119}\n",
        "```"
      ],
      "metadata": {
        "id": "9dy7c-VC2-74"
      }
    },
    {
      "cell_type": "code",
      "execution_count": null,
      "metadata": {
        "id": "T5D1mIxF2yr1"
      },
      "outputs": [],
      "source": [
        "ids = {'user1': [213, 213, 213, 15, 213], \n",
        "       'user2': [54, 54, 119, 119, 119], \n",
        "       'user3': [213, 98, 98, 35]}\n",
        "\n",
        "#  Добавление из словаря значения ключей в список:\n",
        "list_geometry = [item  for item in ids.values()]\n",
        "\n",
        "\"\"\"Между собой складываем списки и добавляем во множества для получения \n",
        "уникальных значений, получаем итоговый результат:\n",
        "\"\"\"\n",
        "set_geometry = set(sum(list_geometry, []))\n",
        "print(f'Результат: {set_geometry}')\n"
      ]
    },
    {
      "cell_type": "markdown",
      "source": [
        "**Задание 2**\n",
        "\n",
        "Дана переменная, в которой хранится список поисковых запросов пользователя (пример структуры данных приведен ниже). Вам необходимо написать программу, которая выведет на экран распределение количества слов в запросах в требуемом виде.\n",
        "\n",
        "Пример работы программы:\n",
        "```\n",
        "queries = [\n",
        "    'смотреть сериалы онлайн',\n",
        "    'новости спорта',\n",
        "    'афиша кино',\n",
        "    'курс доллара',\n",
        "    'сериалы этим летом',\n",
        "    'курс по питону',\n",
        "    'сериалы про спорт',\n",
        "]\n",
        "Результат:\n",
        "\n",
        "Поисковых запросов, содержащих 2 слов(а): 42.86%\n",
        "Поисковых запросов, содержащих 3 слов(а): 57.14%\n",
        "```"
      ],
      "metadata": {
        "id": "qtO3x_0k8iX3"
      }
    },
    {
      "cell_type": "code",
      "source": [
        "queries = [\n",
        "    'смотреть сериалы онлайн',\n",
        "    'новости спорта',\n",
        "    'афиша кино',\n",
        "    'курс доллара',\n",
        "    'сериалы этим летом',\n",
        "    'курс по питону',\n",
        "    'сериалы про спорт',\n",
        "]\n",
        "\n",
        "dict_count_word = {}\n",
        "#  Получаем длину слов в каждом поисковом запросе и помещаем в список\n",
        "list_count_word = [len(string.split()) for string in queries]\n",
        "\n",
        "\"\"\"Из списка list_count_word передаем в словарь dict_count_word длину слов (в \n",
        "качестве ключей) и их количесво повторений (в качестве значений):\n",
        "\"\"\"\n",
        "for count_word in list_count_word:\n",
        "    dict_count_word.setdefault(count_word, 0)\n",
        "    dict_count_word[count_word] += 1\n",
        "\n",
        "\"\"\"Извлекаем ключи и значения из словаря dict_count_word для итогово подсчета  \n",
        "распределения количества слов в запросах:\n",
        "\"\"\"\n",
        "print(f'Результат: \\n')\n",
        "for k, v in dict_count_word.items():\n",
        "    result = round(v / sum(dict_count_word.values()), 4) * 100\n",
        "    print(f'Поисковых запросов, содержащих {k} слов(а): {result} %')\n"
      ],
      "metadata": {
        "id": "NdH5bPWr8fJ6"
      },
      "execution_count": null,
      "outputs": []
    },
    {
      "cell_type": "markdown",
      "source": [
        "**Задание 3**\n",
        "\n",
        "Дана переменная, в которой хранится информация о затратах и доходе рекламных кампаний по различным источникам. Необходимо дополнить исходную структуру показателем [ROI](https://ru.wikipedia.org/wiki/%D0%9E%D0%BA%D1%83%D0%BF%D0%B0%D0%B5%D0%BC%D0%BE%D1%81%D1%82%D1%8C_%D0%B8%D0%BD%D0%B2%D0%B5%D1%81%D1%82%D0%B8%D1%86%D0%B8%D0%B9), который рассчитаем по формуле: (revenue / cost - 1) * 100\n",
        "\n",
        "Пример работы программы:\n",
        "```\n",
        "results = {\n",
        "    'vk': {'revenue': 103, 'cost': 98},\n",
        "    'yandex': {'revenue': 179, 'cost': 153},\n",
        "    'facebook': {'revenue': 103, 'cost': 110},\n",
        "    'adwords': {'revenue': 35, 'cost': 34},\n",
        "    'twitter': {'revenue': 11, 'cost': 24},\n",
        "}\n",
        "Результат:\n",
        "\n",
        "{'adwords': {'revenue': 35, 'cost': 34, 'ROI': 2.94},\n",
        " 'facebook': {'revenue': 103, 'cost': 110, 'ROI': -6.36},\n",
        " 'twitter': {'revenue': 11, 'cost': 24, 'ROI': -54.17},\n",
        " 'vk': {'revenue': 103, 'cost': 98, 'ROI': 5.1},\n",
        " 'yandex': {'revenue': 179, 'cost': 153, 'ROI': 16.99}}\n",
        " ```"
      ],
      "metadata": {
        "id": "2ln5aebyTRbw"
      }
    },
    {
      "cell_type": "code",
      "source": [
        "results = {\n",
        "    'vk': {'revenue': 103, 'cost': 98},\n",
        "    'yandex': {'revenue': 179, 'cost': 153},\n",
        "    'facebook': {'revenue': 103, 'cost': 110},\n",
        "    'adwords': {'revenue': 35, 'cost': 34},\n",
        "    'twitter': {'revenue': 11, 'cost': 24},\n",
        "}\n",
        "\n",
        "from pprint import pprint\n",
        "\n",
        "#  Получаем ключи и значения из словаря results:\n",
        "for key_company, v_revenue_cost in results.items():\n",
        "    \"\"\"Производим расчет согласно формуле (revenue / cost - 1) * 100 и округляем\n",
        "    до 2-ух десятых, добавляя результат в исходную структуру results:\n",
        "    \"\"\" \n",
        "    results[key_company].update({'ROI': round(((v_revenue_cost['revenue'] / \\\n",
        "                                                v_revenue_cost['cost'] - 1) * 100), 2)})\n",
        "    \n",
        "pprint(results)\n"
      ],
      "metadata": {
        "colab": {
          "base_uri": "https://localhost:8080/"
        },
        "id": "U1aenrbVeGE4",
        "outputId": "8b5f4f75-a0b9-435b-c6f5-9031d8ca9099"
      },
      "execution_count": null,
      "outputs": [
        {
          "output_type": "stream",
          "name": "stdout",
          "text": [
            "{'adwords': {'ROI': 2.94, 'cost': 34, 'revenue': 35},\n",
            " 'facebook': {'ROI': -6.36, 'cost': 110, 'revenue': 103},\n",
            " 'twitter': {'ROI': -54.17, 'cost': 24, 'revenue': 11},\n",
            " 'vk': {'ROI': 5.1, 'cost': 98, 'revenue': 103},\n",
            " 'yandex': {'ROI': 16.99, 'cost': 153, 'revenue': 179}}\n"
          ]
        }
      ]
    },
    {
      "cell_type": "markdown",
      "source": [
        "**Задание 4**\n",
        "\n",
        "Дана переменная, в которой хранится статистика рекламных каналов по объемам продаж (пример структуры данных приведен ниже). Напишите программу, которая возвращает название канала с максимальным объемом продаж.\n",
        "\n",
        "Пример работы программы:\n",
        "```\n",
        "stats = {'facebook': 55, 'yandex': 115, 'vk': 120, 'google': 99, 'email': 42, 'ok': 98}\n",
        "\n",
        "Результат: Максимальный объем продаж на рекламном канале: vk\n",
        "```"
      ],
      "metadata": {
        "id": "uXsRuqoMCEu6"
      }
    },
    {
      "cell_type": "code",
      "source": [
        "stats = {'facebook': 55, 'yandex': 115, 'vk': 120, 'google': 99, 'email': 42, 'ok': 98}\n",
        "\n",
        "for key, value in stats.items():\n",
        "    if value == max(stats.values()):\n",
        "        print(f'Результат: Максимальный объем продаж на рекламном канале: {key}')\n"
      ],
      "metadata": {
        "id": "tm3iYabwCOkA",
        "colab": {
          "base_uri": "https://localhost:8080/"
        },
        "outputId": "7b02dbcb-18b6-40d2-929d-aa7941f88bdf"
      },
      "execution_count": null,
      "outputs": [
        {
          "output_type": "stream",
          "name": "stdout",
          "text": [
            "Результат: Максимальный объем продаж на рекламном канале: vk\n",
            "\n",
            "yandex\n",
            "email\n",
            "\n",
            "vk\n",
            "email\n",
            "4\n"
          ]
        }
      ]
    },
    {
      "cell_type": "markdown",
      "source": [
        "**Задание 5 (необязательно)**\n",
        "\n",
        "Дан список произвольной длины. Необходимо написать код, который на основе исходного списка составит словарь такого уровня вложенности, какова длина исхондого списка.\n",
        "\n",
        "Примеры работы программы:\n",
        "```\n",
        "my_list = ['2018-01-01', 'yandex', 'cpc', 100]\n",
        "Результат: {'2018-01-01': {'yandex': {'cpc': 100}}}\n",
        "\n",
        "my_list = ['a', 'b', 'c', 'd', 'e', 'f']\n",
        "Результат: {'a': {'b': {'c': {'d': {'e': 'f'}}}}}\n",
        "```"
      ],
      "metadata": {
        "id": "1EOh4AXjI-ly"
      }
    },
    {
      "cell_type": "code",
      "source": [
        "my_list = ['2018-01-01', 'yandex', 'cpc', 100]\n",
        "#  my_list = ['a', 'b', 'c', 'd', 'e', 'f']\n",
        "\n",
        "num_item_index = len(my_list) - 1 # получаем последний индекс в списке\n",
        "last_item_list = my_list[-1] # получаем последний элемент в списке\n",
        "\n",
        "                    \n",
        "while num_item_index > 0: \n",
        "    last_item_list = {my_list[num_item_index - 1]: last_item_list}\n",
        "    num_item_index -= 1\n",
        "\n",
        "print(last_item_list)\n"
      ],
      "metadata": {
        "id": "APGvcxCbJBqA"
      },
      "execution_count": null,
      "outputs": []
    },
    {
      "cell_type": "markdown",
      "source": [
        "**Задание 6 (необязательно)**\n",
        "\n",
        "Дана книга рецептов с информацией о том, сколько ингредиентов нужно для приготовления блюда в расчете на одну порцию (пример данных представлен ниже).\n",
        "Напишите программу, которая будет запрашивать у пользователя количество порций для приготовления этих блюд и отображать информацию о суммарном количестве требуемых ингредиентов в указанном виде.\n",
        "Внимание! Одинаковые ингридиенты с разными размерностями нужно считать раздельно!\n",
        "Пример работы программы:\n",
        "```\n",
        "cook_book = {\n",
        "  'салат': [\n",
        "     {'ingridient_name': 'сыр', 'quantity': 50, 'measure': 'гр'},\n",
        "     {'ingridient_name': 'томаты', 'quantity': 2, 'measure': 'шт'},\n",
        "     {'ingridient_name': 'огурцы', 'quantity': 20, 'measure': 'гр'},\n",
        "     {'ingridient_name': 'маслины', 'quantity': 10, 'measure': 'гр'},\n",
        "     {'ingridient_name': 'оливковое масло', 'quantity': 20, 'measure': 'мл'},\n",
        "     {'ingridient_name': 'салат', 'quantity': 10, 'measure': 'гр'},\n",
        "     {'ingridient_name': 'перец', 'quantity': 20, 'measure': 'гр'}\n",
        "    ],\n",
        "  'пицца': [\n",
        "     {'ingridient_name': 'сыр', 'quantity': 20, 'measure': 'гр'},\n",
        "     {'ingridient_name': 'колбаса', 'quantity': 30, 'measure': 'гр'},\n",
        "     {'ingridient_name': 'бекон', 'quantity': 30, 'measure': 'гр'},\n",
        "     {'ingridient_name': 'оливки', 'quantity': 10, 'measure': 'гр'},\n",
        "     {'ingridient_name': 'томаты', 'quantity': 20, 'measure': 'гр'},\n",
        "     {'ingridient_name': 'тесто', 'quantity': 100, 'measure': 'гр'},   \n",
        "    ],\n",
        "  'лимонад': [\n",
        "     {'ingridient_name': 'лимон', 'quantity': 1, 'measure': 'шт'},\n",
        "     {'ingridient_name': 'вода', 'quantity': 200, 'measure': 'мл'},\n",
        "     {'ingridient_name': 'сахар', 'quantity': 10, 'measure': 'гр'},\n",
        "     {'ingridient_name': 'лайм', 'quantity': 20, 'measure': 'гр'},    \n",
        "    ]\n",
        "}\n",
        "\n",
        "Введите количество порций:  \n",
        "3\n",
        "Результат:\n",
        "\n",
        "Сыр: 210 гр  \n",
        "Томаты: 6 шт  \n",
        "Огурцы: 60 гр  \n",
        "Маслины: 30 гр  \n",
        "Оливковое масло: 60 мл  \n",
        "Салат: 30 гр  \n",
        "Перец: 60 гр  \n",
        "Колбаса: 90 гр  \n",
        "Бекон: 90 гр  \n",
        "Оливки: 30 гр  \n",
        "Томаты: 60 гр  \n",
        "Тесто: 300 гр  \n",
        "Лимон: 3 шт  \n",
        "Вода: 600 мл  \n",
        "Сахар: 30 гр  \n",
        "Лайм: 60 гр\n",
        "```"
      ],
      "metadata": {
        "id": "XbM2U7ixd6YQ"
      }
    },
    {
      "cell_type": "code",
      "source": [
        "cook_book = {\n",
        "  'салат': [\n",
        "     {'ingridient_name': 'сыр', 'quantity': 50, 'measure': 'гр'},\n",
        "     {'ingridient_name': 'томаты', 'quantity': 2, 'measure': 'шт'},\n",
        "     {'ingridient_name': 'огурцы', 'quantity': 20, 'measure': 'гр'},\n",
        "     {'ingridient_name': 'маслины', 'quantity': 10, 'measure': 'гр'},\n",
        "     {'ingridient_name': 'оливковое масло', 'quantity': 20, 'measure': 'мл'},\n",
        "     {'ingridient_name': 'салат', 'quantity': 10, 'measure': 'гр'},\n",
        "     {'ingridient_name': 'перец', 'quantity': 20, 'measure': 'гр'}\n",
        "    ],\n",
        "  'пицца': [\n",
        "     {'ingridient_name': 'сыр', 'quantity': 20, 'measure': 'гр'},\n",
        "     {'ingridient_name': 'колбаса', 'quantity': 30, 'measure': 'гр'},\n",
        "     {'ingridient_name': 'бекон', 'quantity': 30, 'measure': 'гр'},\n",
        "     {'ingridient_name': 'оливки', 'quantity': 10, 'measure': 'гр'},\n",
        "     {'ingridient_name': 'томаты', 'quantity': 20, 'measure': 'гр'},\n",
        "     {'ingridient_name': 'тесто', 'quantity': 100, 'measure': 'гр'},   \n",
        "    ],\n",
        "  'лимонад': [\n",
        "     {'ingridient_name': 'лимон', 'quantity': 1, 'measure': 'шт'},\n",
        "     {'ingridient_name': 'вода', 'quantity': 200, 'measure': 'мл'},\n",
        "     {'ingridient_name': 'сахар', 'quantity': 10, 'measure': 'гр'},\n",
        "     {'ingridient_name': 'лайм', 'quantity': 20, 'measure': 'гр'},    \n",
        "    ]\n",
        "}\n",
        "\n",
        "person = int(input('Введите количество персон: '))\n",
        "\n",
        "dictionary = {} \n",
        "\n",
        "\n",
        "\"\"\"\n",
        "Получаем название ингридиента и меру в виде кортежа. Затем в словарь dictionary\n",
        "передаем в качестве ключа кортеж, а значением будет итоговый подсчет совпадающих\n",
        "ингредиентов и меры общего количества\"\"\"\n",
        "for dish, list_ingridient in cook_book.items():\n",
        "    for el in list_ingridient:\n",
        "        ingridient_name_measure = list(el.values())[0], list(el.values())[2]\n",
        "        dictionary.setdefault(ingridient_name_measure, 0)\n",
        "        dictionary[ingridient_name_measure] += list(el.values())[1] * person\n",
        "\n",
        "\n",
        "print('Результат: \\n')\n",
        "for ingridient_name_measure, quantity in dictionary.items():\n",
        "    print(f'{ingridient_name_measure[0]}: {quantity} {ingridient_name_measure[1]}')\n"
      ],
      "metadata": {
        "id": "FKLCernxfxMB",
        "colab": {
          "base_uri": "https://localhost:8080/"
        },
        "outputId": "fac0be50-df8c-48fc-b390-91993ecb9a75"
      },
      "execution_count": null,
      "outputs": [
        {
          "output_type": "stream",
          "name": "stdout",
          "text": [
            "Введите количество персон: 3\n",
            "Результат: \n",
            "\n",
            "сыр: 210 гр\n",
            "томаты: 6 шт\n",
            "огурцы: 60 гр\n",
            "маслины: 30 гр\n",
            "оливковое масло: 60 мл\n",
            "салат: 30 гр\n",
            "перец: 60 гр\n",
            "колбаса: 90 гр\n",
            "бекон: 90 гр\n",
            "оливки: 30 гр\n",
            "томаты: 60 гр\n",
            "тесто: 300 гр\n",
            "лимон: 3 шт\n",
            "вода: 600 мл\n",
            "сахар: 30 гр\n",
            "лайм: 60 гр\n"
          ]
        }
      ]
    }
  ]
}