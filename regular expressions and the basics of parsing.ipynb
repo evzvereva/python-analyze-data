{
  "nbformat": 4,
  "nbformat_minor": 0,
  "metadata": {
    "colab": {
      "provenance": []
    },
    "kernelspec": {
      "name": "python3",
      "display_name": "Python 3"
    },
    "language_info": {
      "name": "python"
    }
  },
  "cells": [
    {
      "cell_type": "markdown",
      "source": [
        "### Задание 1\n",
        "Напишите функцию, которая принимает на вход строку и проверяет, является ли она валидным транспортным номером (1 буква, 3 цифры, 2 буквы, 2–3 цифры). Обратите внимание, что не все буквы кириллического алфавита используются в транспортных номерах.\n",
        "\n",
        "Если номер валиден, то функция должна возвращать отдельно номер и регион.\n",
        "\n",
        "Примеры работы программы:\n",
        "```\n",
        "car_id = 'A222BC96'\n",
        "Результат: Номер A222BС валиден. Регион: 96\n",
        "\n",
        "car_id = 'АБ22ВВ193'\n",
        "Результат: Номер не валиден\n",
        "```"
      ],
      "metadata": {
        "id": "sywaswciof7U"
      }
    },
    {
      "cell_type": "code",
      "execution_count": null,
      "metadata": {
        "id": "yGbvN8r4JZFi"
      },
      "outputs": [],
      "source": [
        "import re"
      ]
    },
    {
      "cell_type": "code",
      "source": [
        "car_id = 'А222ВС96'\n",
        "car_id_two = 'АБ22ВВ193'\n",
        "\n",
        "\n",
        "def check_string_validity(string):\n",
        "    \"\"\"\n",
        "    Функция, которая принимает на вход строку и проверяет, является ли она \n",
        "    валидным транспортным номером (1 буква, 3 цифры, 2 буквы, 2–3 цифры). Буквы\n",
        "    должны быть из кириллического алфавита: АВЕКМНОРСТУХ.\n",
        "    \"\"\"\n",
        "    try:\n",
        "        auto_num_valid = re.findall(r'\\b([АВЕКМНОРСТУХ]{1}\\d{3}[АВЕКМНОРСТУХ]{2})(\\d{2,3})\\b', string)\n",
        "        return f'Номер {auto_num_valid[0][0]} валиден. Регион: {auto_num_valid[0][1]}'\n",
        "    except:\n",
        "        return f'Номер не валиден'\n",
        "\n",
        "\n",
        "print(check_string_validity(car_id))\n",
        "print(check_string_validity(car_id_two))\n"
      ],
      "metadata": {
        "colab": {
          "base_uri": "https://localhost:8080/"
        },
        "id": "2o8VEK0_2dEh",
        "outputId": "9a6fa69c-a3be-4a46-a866-2f3fc8e18be4"
      },
      "execution_count": null,
      "outputs": [
        {
          "output_type": "stream",
          "name": "stdout",
          "text": [
            "Номер А222ВС валиден. Регион: 96\n",
            "Номер не валиден\n"
          ]
        }
      ]
    },
    {
      "cell_type": "markdown",
      "source": [
        "### Задание 2\n",
        "Напишите функцию, которая будет удалять все последовательные повторы слов из заданной строки при помощи регулярных выражений.\n",
        "\n",
        "Пример работы программы:\n",
        "```\n",
        "some_string = 'Напишите функцию функцию, которая будет будет будет будет удалять все все все все последовательные повторы слов из из из из заданной строки строки при помощи регулярных выражений.'\n",
        "\n",
        "Результат:\n",
        "Напишите функцию, которая будет удалять все последовательные повторы слов из заданной строки при помощи регулярных выражений.\n",
        "```"
      ],
      "metadata": {
        "id": "mZsqD5lqor6S"
      }
    },
    {
      "cell_type": "code",
      "source": [
        "some_string = 'Напишите функцию функцию, которая будет будет будет будет удалять все все все все последовательные повторы слов из из из из заданной строки строки при помощи регулярных выражений.'\n",
        "\n",
        "\n",
        "def remove_consecutive_repetitions_words(text_):\n",
        "    \"\"\"\n",
        "    Функция позволяет удалить все последовательные повторы слов с помощью regex.\n",
        "    \"\"\"\n",
        "    return re.sub(r'(.\\w+)\\1+', r'\\1', text_, flags=re.IGNORECASE)\n",
        "\n",
        "\n",
        "print(remove_consecutive_repetitions_words(some_string))\n"
      ],
      "metadata": {
        "id": "MmywnXoTJzFy",
        "colab": {
          "base_uri": "https://localhost:8080/"
        },
        "outputId": "201b7c22-b89e-4fce-80f8-badbd4d9ccf2"
      },
      "execution_count": null,
      "outputs": [
        {
          "output_type": "stream",
          "name": "stdout",
          "text": [
            "Напишите функцию, которая будет удалять все последовательные повторы слов из заданной строки при помощи регулярных выражений.\n"
          ]
        }
      ]
    },
    {
      "cell_type": "markdown",
      "source": [
        "### Задание 3\n",
        "Напишите функцию, которая будет возвращать акроним по переданной в неё строке со словами.\n",
        "\n",
        "Примеры работы программы:\n",
        "```\n",
        "some_words = 'Информационные технологии'\n",
        "Результат: ИТ\n",
        "\n",
        "some_words = 'Near Field Communication'\n",
        "Результат: NFC\n",
        "```"
      ],
      "metadata": {
        "id": "gTP-rTLBo3rE"
      }
    },
    {
      "cell_type": "code",
      "source": [
        "some_words = 'Информационные технологии'\n",
        "some_word_two = 'Near Field Communication'\n",
        "\n",
        "\n",
        "def get_acronym(text_):\n",
        "    \"\"\"\n",
        "    Функция позволяет получить акроним по переданной в неё строке со словами.\n",
        "    \"\"\"\n",
        "\n",
        "    # Соединяем полученный акроним между собой и переводим в верхний регистр\n",
        "    return ''.join(re.findall(r'\\b\\w{1}', text_, flags=re.IGNORECASE)).upper()\n",
        "\n",
        "\n",
        "print(get_acronym(some_words))\n",
        "print(get_acronym(some_word_two))\n"
      ],
      "metadata": {
        "id": "1hTWtj0DGaRb",
        "colab": {
          "base_uri": "https://localhost:8080/"
        },
        "outputId": "90bc6afe-dfb1-4f52-e0ca-c0ba31bb73a2"
      },
      "execution_count": null,
      "outputs": [
        {
          "output_type": "stream",
          "name": "stdout",
          "text": [
            "ИТ\n",
            "NFC\n"
          ]
        }
      ]
    },
    {
      "cell_type": "markdown",
      "source": [
        "### Задание 4\n",
        "Напишите функцию, которая будет принимать на вход список email-адресов и выводить их распределение по доменным зонам.\n",
        "\n",
        "Пример работы программы:\n",
        "```\n",
        "emails = ['test@gmail.com', 'xyz@test.in', 'test@ya.ru', 'xyz@mail.ru', 'xyz@ya.ru', 'xyz@gmail.com']\n",
        "\n",
        "Результат:\n",
        "\n",
        "gmail.com: 2\n",
        "test.in: 1\n",
        "ya.ru: 2\n",
        "mail.ru: 1\n",
        "```"
      ],
      "metadata": {
        "id": "mXR606tjo8Zf"
      }
    },
    {
      "cell_type": "code",
      "source": [
        "from collections import Counter\n",
        " \n",
        "emails = ['test@gmail.com', 'xyz@test.in', 'test@ya.ru', 'xyz@mail.ru', 'xyz@ya.ru', 'xyz@gmail.com']\n",
        "\n",
        "\n",
        "def get_distribution_domain_zones(list_emails):\n",
        "    \"\"\"\n",
        "    Функцию принимает на вход список email-адресов и выводит их распределение \n",
        "    по доменным зонам.\n",
        "    \"\"\"\n",
        "\n",
        "    # с помощью regex получаем домен начиная с @, затем подсчитываем количество \n",
        "    # совпадений.\n",
        "    result_domain = Counter(re.findall(r'@\\w+\\.\\w+', str(list_emails), flags=re.IGNORECASE))\n",
        "\n",
        "    # получаем на выходе домен: кол-во совпадений\n",
        "    for domain, count_domain in result_domain.items():\n",
        "        print(f'{domain}: {count_domain}')\n",
        "\n",
        "\n",
        "get_distribution_domain_zones(emails)\n"
      ],
      "metadata": {
        "id": "GkVXlr7spLfu",
        "colab": {
          "base_uri": "https://localhost:8080/"
        },
        "outputId": "328e45b3-687e-4f0d-cfd9-91b29ac5f7f8"
      },
      "execution_count": null,
      "outputs": [
        {
          "output_type": "stream",
          "name": "stdout",
          "text": [
            "@gmail.com: 2\n",
            "@test.in: 1\n",
            "@ya.ru: 2\n",
            "@mail.ru: 1\n"
          ]
        }
      ]
    },
    {
      "cell_type": "markdown",
      "source": [
        "### Задание 5 (необязательное)\n",
        "\n",
        "Напишите функцию, которая будет подсчитывать, сколько слов начинается на гласные, а сколько на согласные буквы в тексте. Текст может быть написан с использованием букв как кириллицы, так и латиницы.\n",
        "\n",
        "Пример работы программы:\n",
        "```\n",
        "some_text = 'Эталонной реализацией Python является интерпретатор CPython, поддерживающий большинство активно используемых платформ. Он распространяется под свободной лицензией Python Software Foundation License, позволяющей использовать его без ограничений в любых приложениях, включая проприетарные.'\n",
        "\n",
        "Результат:\n",
        "\n",
        "Слов на гласные буквы: 9\n",
        "Слов на согласные буквы: 21\n",
        "```"
      ],
      "metadata": {
        "id": "E3_YwqKXpL1b"
      }
    },
    {
      "cell_type": "code",
      "source": [
        "some_text = 'Эталонной реализацией Python является интерпретатор CPython, поддерживающий большинство активно используемых платформ. Он распространяется под свободной лицензией Python Software Foundation License, позволяющей использовать его без ограничений в любых приложениях, включая проприетарные.'\n",
        "\n",
        "\n",
        "def count_number_vowels_consonants_letters(text_):\n",
        "    \"\"\"\n",
        "    Функция позволяет посчитать количество гласных и согласных букв. \n",
        "    Текст может быть написан с использованием букв как кириллицы, так и латиницы.\n",
        "    Для получения букв применяется regex.\n",
        "    \"\"\"\n",
        "\n",
        "    number_vowel_letters = re.findall(r'(\\b[аоуыэеёиюяaeiouy]{1})', some_text, flags=re.IGNORECASE) # гласные\n",
        "    number_consonant_letters = re.findall(r'(\\b[бвгджзйклмнпрстфхцчшщbcdfghjklmnpqrstvwxyz]{1})', some_text, flags=re.IGNORECASE) # согласные\n",
        "\n",
        "    return f'Слов на гласные буквы: {len(number_vowel_letters)}\\nСлов на согласные буквы: {len(number_consonant_letters)}'\n",
        "\n",
        "\n",
        "print(count_number_vowels_consonants_letters(some_text))\n"
      ],
      "metadata": {
        "id": "wgloWfEBpX1X",
        "colab": {
          "base_uri": "https://localhost:8080/"
        },
        "outputId": "83c455d0-878e-454c-c092-103a2a5b193d"
      },
      "execution_count": null,
      "outputs": [
        {
          "output_type": "stream",
          "name": "stdout",
          "text": [
            "Слов на гласные буквы: 9\n",
            "Слов на согласные буквы: 21\n"
          ]
        }
      ]
    },
    {
      "cell_type": "markdown",
      "source": [
        "### Задание 6 (необязательное)\n",
        "\n",
        "Напишите функцию, которая будет проверять номер сотового телефона на валидность, только для российского формата. Если он валиден, то переводить его в формат:\n",
        "+7-xxx-xxx-xx-xx\n",
        "Постарайтесь предусмотреть как можно больше адекватных форматов изначального ввода номера. Примеры работы программы:\n",
        "```\n",
        "phone = '+7 955 555-55-55'\n",
        "Результат: +7-955-555-55-55\n",
        "\n",
        "phone = '8(955)555-55-55'\n",
        "Результат: +7-955-555-55-55\n",
        "\n",
        "phone = '+7 955 555 55 55'\n",
        "Результат: +7-955-555-55-55\n",
        "\n",
        "phone = '7(955) 555-55-55'\n",
        "Результат: +7-955-555-55-55\n",
        "\n",
        "phone = '423-555-55-5555'\n",
        "Результат: Номер не валиден\n",
        "\n",
        "phone = '123-456-789'\n",
        "Результат: Номер не валиден\n",
        "```"
      ],
      "metadata": {
        "id": "pJswzen8pYRH"
      }
    },
    {
      "cell_type": "code",
      "source": [
        "phone1 = '+7 955 555-55-55'\n",
        "phone2 = '8(955)555-55-55'\n",
        "phone3 = '+7 955 555 55 55'\n",
        "phone4 = '7(955) 555-55-55'\n",
        "phone5 = '423-555-55-5555'\n",
        "phone6 = '123-456-78922'\n",
        "\n",
        "\n",
        "def check_validity_phone(number_phone):\n",
        "    \"\"\"\n",
        "    Функцию, позволяет проверить номер сотового телефона на валидность только для \n",
        "    российского формата. Если он валиден, то переводить его в формат: \n",
        "    +7-xxx-xxx-xx-xx\n",
        "    \"\"\"\n",
        "\n",
        "    # получаем номера в формате +7-xxx-xxx-xx-xx применяя regex\n",
        "    result = re.sub(r'\\+*\\W?(\\d{1})\\W*?\\s?(\\d{3})\\W*(\\d{3})\\W*(\\d{2})\\W*(\\d{2})', r'+7-\\2-\\3-\\4-\\5', number_phone)\n",
        "\n",
        "    # проверяем на валидность поступившего номера сотового телефона\n",
        "    if number_phone != result:\n",
        "        return result # Номер валиден\n",
        "    else:\n",
        "        return 'Номер не валиден'\n",
        "\n",
        "print(check_validity_phone(phone1))\n",
        "print(check_validity_phone(phone2))\n",
        "print(check_validity_phone(phone3))\n",
        "print(check_validity_phone(phone4))\n",
        "print(check_validity_phone(phone5))\n",
        "print(check_validity_phone(phone6))\n"
      ],
      "metadata": {
        "colab": {
          "base_uri": "https://localhost:8080/"
        },
        "id": "LtU0GG2acm1i",
        "outputId": "5215e227-24da-4ed2-b6e9-9a227517853e"
      },
      "execution_count": null,
      "outputs": [
        {
          "output_type": "stream",
          "name": "stdout",
          "text": [
            "+7-955-555-55-55\n",
            "+7-955-555-55-55\n",
            "+7-955-555-55-55\n",
            "+7-955-555-55-55\n",
            "Номер не валиден\n",
            "Номер не валиден\n"
          ]
        }
      ]
    }
  ]
}