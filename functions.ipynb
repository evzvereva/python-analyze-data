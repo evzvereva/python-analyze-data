{
  "nbformat": 4,
  "nbformat_minor": 0,
  "metadata": {
    "colab": {
      "provenance": []
    },
    "kernelspec": {
      "name": "python3",
      "display_name": "Python 3"
    },
    "language_info": {
      "name": "python"
    }
  },
  "cells": [
    {
      "cell_type": "markdown",
      "source": [
        "Вам нужно помочь секретарю автоматизировать работу. Для этого нужно написать программу, которая будет на основе хранимых данных исполнять пользовательские команды.\n",
        "\n",
        "Исходные данные имеют следующую структуру:\n",
        "\n",
        "перечень всех документов\n",
        "```\n",
        "documents = [\n",
        " {'type': 'passport', 'number': '2207 876234', 'name': 'Василий Гупкин'},\n",
        " {'type': 'invoice', 'number': '11-2', 'name': 'Геннадий Покемонов'},\n",
        " {'type': 'insurance', 'number': '10006', 'name': 'Аристарх Павлов'}\n",
        "]\n",
        "```\n",
        "перечень полок, на которых хранятся документы (если документ есть в documents, то он обязательно должен быть и в directories)\n",
        "```\n",
        "directories = {\n",
        " '1': ['2207 876234', '11-2'],\n",
        " '2': ['10006'],\n",
        " '3': []\n",
        "}\n",
        "```\n",
        "Общие требования к программе:\n",
        "\n",
        "код должен быть грамотно декомпозирован (каждая функция отвечает за свою конкретную задачу, дублирующийся функционал переиспользуется, а его код не повторяется);\n",
        "в коде отсутствуют глобальные переменные (за исключением **documents** и **directories**);\n",
        "пользовательский ввод обрабатывается в цикле **while** до тех пор, пока пользователь явно не завершит программу (вводом команды **\"q\"**)."
      ],
      "metadata": {
        "id": "ac0gt6s_XRw4"
      }
    },
    {
      "cell_type": "markdown",
      "source": [
        "**Задание 1**"
      ],
      "metadata": {
        "id": "IwQWtq4rXqgy"
      }
    },
    {
      "cell_type": "code",
      "source": [
        "documents = [\n",
        " {'type': 'passport', 'number': '2207 876234', 'name': 'Василий Гупкин'},\n",
        " {'type': 'invoice', 'number': '11-2', 'name': 'Геннадий Покемонов'},\n",
        " {'type': 'insurance', 'number': '10006', 'name': 'Аристарх Павлов'}\n",
        "]\n",
        "\n",
        "directories = {\n",
        " '1': ['2207 876234', '11-2'],\n",
        " '2': ['10006'],\n",
        " '3': []\n",
        "}\n"
      ],
      "metadata": {
        "id": "DIk9YiypYCA1"
      },
      "execution_count": null,
      "outputs": []
    },
    {
      "cell_type": "markdown",
      "source": [
        "# Пункт 1. Пользователь по команде **\"p\"** может узнать владельца документа по его номеру\n",
        "Примеры работы:\n",
        "```\n",
        "1.\n",
        "Введите команду:\n",
        "p\n",
        "\n",
        "Введите номер документа:\n",
        "10006\n",
        "Результат:\n",
        "Владелец документа: Аристарх Павлов\n",
        "\n",
        "2.\n",
        "Введите команду:\n",
        "p\n",
        "\n",
        "Введите номер документа:\n",
        "12345\n",
        "Результат:\n",
        "Документ не найден в базе\n",
        "```"
      ],
      "metadata": {
        "id": "i3ntBQiRXy1E"
      }
    },
    {
      "cell_type": "code",
      "source": [
        "# Пользователь по команде \"p\" может узнать владельца документа по его номеру\n",
        "\n",
        "def get_user_doc():\n",
        "    doc_number = input('Введите номер документа: ')\n",
        "    for dict_doc_user in documents:\n",
        "        if doc_number in dict_doc_user.values():\n",
        "            return f\"Владелец документа: {dict_doc_user['name']}\"\n",
        "    else:\n",
        "        return 'Документ не найден в базе'\n",
        "\n",
        "\n",
        "get_user_doc()\n"
      ],
      "metadata": {
        "id": "tFw8WLkCiH0G"
      },
      "execution_count": null,
      "outputs": []
    },
    {
      "cell_type": "markdown",
      "source": [
        "# Пункт 2. Пользователь по команде \"s\" может по номеру документа узнать на какой полке он хранится\n",
        "Примеры работы:\n",
        "```\n",
        "1.\n",
        "Введите команду:\n",
        "s\n",
        "\n",
        "Введите номер документа:\n",
        "10006\n",
        "Результат:\n",
        "Документ хранится на полке: 2\n",
        "\n",
        "2.\n",
        "Введите команду:\n",
        "s\n",
        "\n",
        "Введите номер документа:\n",
        "12345\n",
        "Результат:\n",
        "Документ не найден в базе\n",
        "```"
      ],
      "metadata": {
        "id": "pQTmfBXDzGqo"
      }
    },
    {
      "cell_type": "code",
      "source": [
        "def get_num_shelf():\n",
        "    doc_number = input('Введите номер документа: ')\n",
        "    for key, value in directories.items():\n",
        "        if doc_number in value:\n",
        "            return f\"Документ хранится на полке: {key}\"\n",
        "    return 'Документ не найден в базе'\n",
        "\n",
        "\n",
        "get_num_shelf()\n"
      ],
      "metadata": {
        "id": "2PqmhkRWzL7x",
        "colab": {
          "base_uri": "https://localhost:8080/",
          "height": 53
        },
        "outputId": "76385e17-2088-4592-b4e7-d26906a5f855"
      },
      "execution_count": null,
      "outputs": [
        {
          "name": "stdout",
          "output_type": "stream",
          "text": [
            "Введите номер документа: 11-2\n"
          ]
        },
        {
          "output_type": "execute_result",
          "data": {
            "text/plain": [
              "'Документ хранится на полке: 3'"
            ],
            "application/vnd.google.colaboratory.intrinsic+json": {
              "type": "string"
            }
          },
          "metadata": {},
          "execution_count": 9
        }
      ]
    },
    {
      "cell_type": "markdown",
      "source": [
        "# Пункт 3. Пользователь по команде \"l\" может увидеть полную информацию по всем документам\n",
        "\n",
        "Пример работы:\n",
        "```\n",
        "Введите команду:\n",
        "l\n",
        "Результат:\n",
        "\n",
        "№: 2207 876234, тип: passport, владелец: Василий Гупкин, полка хранения: 1\n",
        "№: 11-2, тип: invoice, владелец: Геннадий Покемонов, полка хранения: 1\n",
        "№: 10006, тип: insurance, владелец: Аристарх Павлов, полка хранения: 2\n",
        "```"
      ],
      "metadata": {
        "id": "wit24suc0sgr"
      }
    },
    {
      "cell_type": "code",
      "source": [
        "def get_list_doc():\n",
        "    for dict_doc_user in documents:\n",
        "        for key, value in directories.items():\n",
        "            if dict_doc_user['number'] in value:\n",
        "                print(f\"№: {dict_doc_user['number']}, тип: {dict_doc_user['type']}, владелец: {dict_doc_user['name']}, полка хранения: {key}\")\n",
        "    \n",
        "get_list_doc()"
      ],
      "metadata": {
        "id": "DV7VjwQz0z0h",
        "colab": {
          "base_uri": "https://localhost:8080/"
        },
        "outputId": "006598bd-bbe2-4d33-f4eb-8185b133ec55"
      },
      "execution_count": null,
      "outputs": [
        {
          "output_type": "stream",
          "name": "stdout",
          "text": [
            "№: 2207 876234, тип: passport, владелец: Василий Гупкин, полка хранения: 1\n",
            "№: 11-2, тип: invoice, владелец: Геннадий Покемонов, полка хранения: 3\n",
            "№: 10006, тип: insurance, владелец: Аристарх Павлов, полка хранения: 2\n"
          ]
        }
      ]
    },
    {
      "cell_type": "markdown",
      "source": [
        "# Пункт 4. Пользователь по команде \"ads\" может добавить новую полку\n",
        "Примеры работы:\n",
        "```\n",
        "1.\n",
        "Введите команду:\n",
        "ads\n",
        "\n",
        "Введите номер полки:\n",
        "10\n",
        "Результат:\n",
        "Полка добавлена. Текущий перечень полок: 1, 2, 3, 10.\n",
        "\n",
        "2.\n",
        "Введите команду:\n",
        "ads\n",
        "\n",
        "Введите номер полки:\n",
        "1\n",
        "Результат:\n",
        "Такая полка уже существует. Текущий перечень полок: 1, 2, 3.\n",
        "```"
      ],
      "metadata": {
        "id": "t9ACmgjqafNf"
      }
    },
    {
      "cell_type": "code",
      "source": [
        "def add_new_shelf():\n",
        "    num_shelf = input('Введите номер полки: ')\n",
        "    if num_shelf not in list(directories.keys()):\n",
        "        directories[num_shelf] = []\n",
        "        return f'Полка добавлена. Текущий перечень полок: {\", \".join(list(directories.keys()))}'\n",
        "    else:\n",
        "        return f'Такая полка уже существует. Текущий перечень полок: {\", \".join(list(directories.keys()))}'\n",
        "\n",
        "\n",
        "add_new_shelf()\n"
      ],
      "metadata": {
        "id": "rGYkKBKBapVs"
      },
      "execution_count": null,
      "outputs": []
    },
    {
      "cell_type": "markdown",
      "source": [
        "# Пункт 5. Пользователь по команде \"ds\" может удалить существующую полку из данных (только если она пустая)\n",
        "Примеры работы:\n",
        "```\n",
        "1.\n",
        "Введите команду:\n",
        "ds\n",
        "\n",
        "Введите номер полки:\n",
        "3\n",
        "Результат:\n",
        "Полка удалена. Текущий перечень полок: 1, 2.\n",
        "\n",
        "2.\n",
        "Введите команду:\n",
        "ds\n",
        "\n",
        "Введите номер полки:\n",
        "1\n",
        "Результат:\n",
        "На полке есть документа, удалите их перед удалением полки. Текущий перечень полок: 1, 2, 3.\n",
        "\n",
        "3.\n",
        "Введите команду:\n",
        "ds\n",
        "\n",
        "Введите номер полки:\n",
        "4\n",
        "Результат:\n",
        "Такой полки не существует. Текущий перечень полок: 1, 2, 3."
      ],
      "metadata": {
        "id": "7RsQwssUiH8G"
      }
    },
    {
      "cell_type": "code",
      "source": [
        "def del_shelf():\n",
        "    num_shelf = input('Введите номер полки: ')\n",
        "    for key, value in directories.items():\n",
        "        if key == num_shelf:\n",
        "            if num_shelf in list(directories.keys()) and len(directories[num_shelf]) == 0:\n",
        "                directories.pop(num_shelf)\n",
        "                return f'Полка удалена. Текущий перечень полок: {\", \".join(list(directories.keys()))}'\n",
        "            elif num_shelf in list(directories.keys()) and len(directories[num_shelf]) > 0:\n",
        "                 return f'На полке есть документ, удалите их перед удалением полки. Текущий перечень полок: {\", \".join(list(directories.keys()))}'\n",
        "    return f'Такой полки не существует. Текущий перечень полок: {\", \".join(list(directories.keys()))}'\n",
        "            \n",
        "         \n",
        "\n",
        "del_shelf()"
      ],
      "metadata": {
        "id": "Jwr4ADSbiMip"
      },
      "execution_count": null,
      "outputs": []
    },
    {
      "cell_type": "markdown",
      "source": [
        "# Задание 2 (необязательное)\n",
        "Вам необходимо дополнить программу из задания 1 более продвинутыми командами."
      ],
      "metadata": {
        "id": "Qaj5zMZ7GUTf"
      }
    },
    {
      "cell_type": "markdown",
      "source": [
        "Пункт 1. Пользователь по команде \"ad\" может добавить новый документ в данные\n",
        "Примеры работы:\n",
        "```\n",
        "1.\n",
        "Введите команду:\n",
        "ad\n",
        "\n",
        "Введите номер документа:\n",
        "42\n",
        "Введите тип документа:\n",
        "multipassport\n",
        "Введите владельца документа:\n",
        "R2D2\n",
        "Введите полку для хранения:\n",
        "3\n",
        "Результат:\n",
        "\n",
        "Документ добавлен. Текущий список документов:\n",
        "№: 2207 876234, тип: passport, владелец: Василий Гупкин, полка хранения: 1\n",
        "№: 11-2, тип: invoice, владелец: Геннадий Покемонов, полка хранения: 1\n",
        "№: 10006, тип: insurance, владелец: Аристарх Павлов, полка хранения: 2\n",
        "№: 42, тип: multipassport, владелец: R2D2, полка хранения: 3\n",
        "2.\n",
        "Введите команду:\n",
        "ad\n",
        "\n",
        "Введите номер документа:\n",
        "42\n",
        "Введите тип документа:\n",
        "multipassport\n",
        "Введите владельца документа:\n",
        "R2D2\n",
        "Введите полку для хранения:\n",
        "4\n",
        "Результат:\n",
        "\n",
        "Такой полки не существует. Добавьте полку командой as. \n",
        "Текущий список документов:\n",
        "№: 2207 876234, тип: passport, владелец: Василий Гупкин, полка хранения: 1\n",
        "№: 11-2, тип: invoice, владелец: Геннадий Покемонов, полка хранения: 1\n",
        "№: 10006, тип: insurance, владелец: Аристарх Павлов, полка хранения: 2\n",
        "```"
      ],
      "metadata": {
        "id": "EhjsLR62GW0C"
      }
    },
    {
      "cell_type": "code",
      "source": [
        "def add_new_doc():\n",
        "    doc_number = input('Введите номер документа: ')\n",
        "    doc_type = input('Введите тип документа: ') \n",
        "    doc_user = input('Введите владельца документа: ')\n",
        "    doc_shelf = input('Введите полку для хранения: ')\n",
        "\n",
        "    new_dict = {}\n",
        "    if doc_shelf in list(directories.keys()) and not new_dict:\n",
        "        new_dict.update({'type': doc_type, 'number': doc_number, 'name': doc_user})\n",
        "        documents.append(new_dict)\n",
        "        directories[doc_shelf].append(doc_number)\n",
        "        print('Документ добавлен. Текущий список документов: \\n')\n",
        "        get_list_doc()\n",
        "\n",
        "    else:   \n",
        "        print('Такой полки не существует. Добавьте полку командой as. Текущий список документов: \\n')\n",
        "        get_list_doc()\n",
        "\n",
        "\n",
        "add_new_doc()\n"
      ],
      "metadata": {
        "id": "fcjb6Zm3Geem"
      },
      "execution_count": null,
      "outputs": []
    },
    {
      "cell_type": "markdown",
      "source": [
        "# Пункт 3. Пользователь по команде \"m\" может переместить документ с полки на полку\n",
        "\n",
        "Примеры работы:\n",
        "```\n",
        "1.\n",
        "Введите команду:\n",
        "m\n",
        "Введите номер документа:\n",
        "11-2\n",
        "Введите номер полки:\n",
        "3\n",
        "\n",
        "Результат:\n",
        "Документ перемещен. \n",
        "Текущий список документов:\n",
        "№: 2207 876234, тип: passport, владелец: Василий Гупкин, полка хранения: 1\n",
        "№: 11-2, тип: invoice, владелец: Геннадий Покемонов, полка хранения: 3\n",
        "№: 10006, тип: insurance, владелец: Аристарх Павлов, полка хранения: 2\n",
        "2.\n",
        "\n",
        "Введите команду:\n",
        "m\n",
        "Введите номер документа:\n",
        "11-2\n",
        "Введите номер полки:\n",
        "10\n",
        "\n",
        "Результат:\n",
        "Такой полки не существует. Текущий перечень полок: 1, 2, 3.\n",
        "\n",
        "3.\n",
        "Введите команду:\n",
        "m\n",
        "Введите номер документа:\n",
        "42\n",
        "Введите номер полки:\n",
        "2\n",
        "\n",
        "Результат:\n",
        "Документ не найден в базе. \n",
        "Текущий список документов:\n",
        "№: 2207 876234, тип: passport, владелец: Василий Гупкин, полка хранения: 1\n",
        "№: 11-2, тип: invoice, владелец: Геннадий Покемонов, полка хранения: 1\n",
        "№: 10006, тип: insurance, владелец: Аристарх Павлов, полка хранения: 2\n",
        "```"
      ],
      "metadata": {
        "id": "NT6-wGOE0Srz"
      }
    },
    {
      "cell_type": "code",
      "source": [
        "def move_shelf():\n",
        "    doc_number = input('Введите номер документа: ')\n",
        "    doc_shelf = input('Введите полку для хранения: ')\n",
        "\n",
        "    if doc_shelf in list(directories.keys()) and doc_number in sum(list(directories.values()), []):\n",
        "        for key, value in directories.items():\n",
        "            if doc_number in value:\n",
        "                value.remove(doc_number)\n",
        "        directories[doc_shelf].append(doc_number)\n",
        "        print('\\nДокумент перемещен. \\nТекущий список документов: \\n')\n",
        "        return get_list_doc()\n",
        "\n",
        "    elif (doc_shelf not in list(directories.keys()) and doc_number not in sum(list(directories.values()), [])) or (doc_shelf not in list(directories.keys()) and doc_number in sum(list(directories.values()), [])):\n",
        "        print(f'\\nТакой полки не существует. Текущий перечень полок: {\", \".join(list(directories.keys()))}')\n",
        "        \n",
        "    elif doc_shelf in list(directories.keys()) and doc_number not in sum(list(directories.values()), []):\n",
        "        print('\\nДокумент не найден в базе. \\nТекущий список документов: \\n')\n",
        "        return get_list_doc()\n",
        "\n",
        "\n",
        "move_shelf()\n"
      ],
      "metadata": {
        "id": "JBl6jfcekMHC",
        "colab": {
          "base_uri": "https://localhost:8080/"
        },
        "outputId": "b9893cba-df87-4461-e953-dc9946fce4bd"
      },
      "execution_count": null,
      "outputs": [
        {
          "output_type": "stream",
          "name": "stdout",
          "text": [
            "Введите номер документа: 11-2\n",
            "Введите полку для хранения: 3\n",
            "\n",
            "Документ не найден в базе. \n",
            "Текущий список документов: \n",
            "\n",
            "№: 2207 876234, тип: passport, владелец: Василий Гупкин, полка хранения: 1\n",
            "№: 10006, тип: insurance, владелец: Аристарх Павлов, полка хранения: 2\n"
          ]
        }
      ]
    },
    {
      "cell_type": "code",
      "source": [
        "def run_custom_command():\n",
        "    command = ''\n",
        "\n",
        "    while True:\n",
        "        command = input('Введите команду: ')\n",
        "        if command == 'p':\n",
        "            get_user_doc()\n",
        "        elif command == 's':\n",
        "            get_num_shelf()\n",
        "        elif command == 'l':\n",
        "            get_list_doc()\n",
        "        elif command == 'ads':\n",
        "            add_new_shelf()\n",
        "        elif command == 'ds':\n",
        "            del_shelf()\n",
        "        elif command == 'ad':\n",
        "            add_new_doc()\n",
        "        elif command == 'm':\n",
        "            move_shelf()\n",
        "        elif command == 'q':\n",
        "            print('Программа завершена')\n",
        "            break\n",
        "\n",
        "run_custom_command()\n"
      ],
      "metadata": {
        "id": "BCGaQ-6D0Qxg",
        "colab": {
          "base_uri": "https://localhost:8080/"
        },
        "outputId": "2027f5c4-56a0-467e-f807-96e6ebc44877"
      },
      "execution_count": null,
      "outputs": [
        {
          "output_type": "stream",
          "name": "stdout",
          "text": [
            "Введите команду: q\n",
            "Программа завершена\n"
          ]
        }
      ]
    }
  ]
}