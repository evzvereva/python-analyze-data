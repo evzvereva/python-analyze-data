{
  "nbformat": 4,
  "nbformat_minor": 0,
  "metadata": {
    "colab": {
      "provenance": []
    },
    "kernelspec": {
      "name": "python3",
      "display_name": "Python 3"
    },
    "language_info": {
      "name": "python"
    }
  },
  "cells": [
    {
      "cell_type": "markdown",
      "source": [
        "**Задание 1.**\n",
        "\n",
        "Дана переменная, в которой хранится слово из латинских букв. Напишите код, который выводит на экран:\n",
        "\n",
        "среднюю букву, если число букв в слове нечетное;\n",
        "две средних буквы, если число букв четное.\n",
        "Примеры работы программы:\n",
        "\n",
        "1.`word = 'test’`\n",
        "Результат:\n",
        "`es`\n",
        "\n",
        "1.`word = 'testing’`\n",
        "Результат:\n",
        "`t`"
      ],
      "metadata": {
        "id": "8QBqWgRileJ0"
      }
    },
    {
      "cell_type": "code",
      "execution_count": null,
      "metadata": {
        "id": "YDPbR69vcfBu",
        "outputId": "df4203df-66f5-4c04-f031-015920cfd0dd",
        "colab": {
          "base_uri": "https://localhost:8080/",
          "height": 54
        }
      },
      "outputs": [
        {
          "name": "stdout",
          "output_type": "stream",
          "text": [
            "Введите слово латинскими буквами: test\n"
          ]
        },
        {
          "output_type": "execute_result",
          "data": {
            "text/plain": [
              "'Результат: es'"
            ],
            "application/vnd.google.colaboratory.intrinsic+json": {
              "type": "string"
            }
          },
          "metadata": {},
          "execution_count": 1
        }
      ],
      "source": [
        "def get_letter():\n",
        "    \"\"\"Функция позволяет запросить у пользователя слово, написав его латинскими\n",
        "    буквами. Затем выполняется проверка длины строки четная или нечетная\n",
        "    Условия выполнения:\n",
        "    1. если длина строки четная, то необходимо вывести две буквы посередине\n",
        "    2. если длина строки нечетная, то необходимо вывести одну букву посередине\n",
        "    \"\"\"\n",
        "    indent ='\\n'\n",
        "    word = input('Введите слово латинскими буквами: ')\n",
        "\n",
        "    # производим расчет длины, поделив ее пополам, затем округив для дальнейшего \n",
        "    # использования в качестве индекса, с помощью которого находим букву \n",
        "    # посередине. \n",
        "    middle_letter = int(len(word) // 2)\n",
        "\n",
        "    if len(word) % 2 == 0:\n",
        "        middle_next_letter = middle_letter - 1\n",
        "        result_even = f'Результат: {word[middle_next_letter] + \"\" + word[middle_letter]}'\n",
        "        return result_even\n",
        "    else:\n",
        "        result_odd = word[middle_letter]\n",
        "        return result_odd\n",
        "\n",
        "\n",
        "get_letter()\n"
      ]
    },
    {
      "cell_type": "markdown",
      "source": [
        "**Задание 2.**\n",
        "\n",
        "Напишите программу, которая последовательно запрашивает у пользователя числа (по одному за раз) и после первого нуля выводит сумму всех ранее введенных чисел.\n",
        "\n",
        "Примеры работы программы:\n",
        "\n",
        "```\n",
        "Введите число:\n",
        "1\n",
        "\n",
        "Введите число:\n",
        "4\n",
        "\n",
        "Введите число:\n",
        "6\n",
        "\n",
        "Введите число:\n",
        "0\n",
        "Результат:\n",
        "11\n",
        "\n",
        "Введите число:\n",
        "0\n",
        "Результат:\n",
        "0\n",
        "```"
      ],
      "metadata": {
        "id": "eTd3NgylsQ3_"
      }
    },
    {
      "cell_type": "code",
      "source": [
        "def count_sum_numbers():\n",
        "    \"\"\"Вызов функции позволяет запрашивать у пользователя число до тех пор, пока\n",
        "    оно не станет равно нулю. Как только результат равен нулю, все ранее \n",
        "    введенные числа суммируются и происходит печать на экран.\n",
        "    \"\"\"\n",
        "\n",
        "    number = int(input('Введите число: '))\n",
        "    index = 0\n",
        "\n",
        "    while number > 0:\n",
        "        index = index + number\n",
        "        number = int(input('Введите число: '))\n",
        "    return f'Результат: {index}'\n",
        "\n",
        "\n",
        "count_sum_numbers()\n"
      ],
      "metadata": {
        "id": "1sdOiQjJs0SY"
      },
      "execution_count": null,
      "outputs": []
    },
    {
      "cell_type": "markdown",
      "source": [
        "**Задание 3.**\n",
        "\n",
        "Мы делаем [MVP](https://ru.wikipedia.org/wiki/%D0%9C%D0%B8%D0%BD%D0%B8%D0%BC%D0%B0%D0%BB%D1%8C%D0%BD%D0%BE_%D0%B6%D0%B8%D0%B7%D0%BD%D0%B5%D1%81%D0%BF%D0%BE%D1%81%D0%BE%D0%B1%D0%BD%D1%8B%D0%B9_%D0%BF%D1%80%D0%BE%D0%B4%D1%83%D0%BA%D1%82) dating-сервиса, и у нас есть список парней и девушек.\n",
        "Выдвигаем гипотезу: лучшие рекомендации мы получим, если просто отсортируем имена по алфавиту и познакомим людей с одинаковыми индексами после сортировки! Но мы не будем никого знакомить, если кто-то может остаться без пары:\n",
        "\n",
        "Примеры работы программы:\n",
        "1.\n",
        "```\n",
        "boys = [‘Peter’, ‘Alex’, ‘John’, ‘Arthur’, ‘Richard’]\n",
        "girls = [‘Kate’, ‘Liza’, ‘Kira’, ‘Emma’, ‘Trisha’]\n",
        "\n",
        "Результат:\n",
        "Идеальные пары:\n",
        "Alex и Emma\n",
        "Arthur и Kate\n",
        "John и Kira\n",
        "Peter и Liza\n",
        "Richard и Trisha\n",
        "2.\n",
        "boys = [‘Peter’, ‘Alex’, ‘John’, ‘Arthur’, ‘Richard’, ‘Michael’]\n",
        "girls = [‘Kate’, ‘Liza’, ‘Kira’, ‘Emma’, ‘Trisha’]\n",
        "\n",
        "Результат:\n",
        "Внимание, кто-то может остаться без пары!\n",
        "```"
      ],
      "metadata": {
        "id": "sMYN3U2r-4LY"
      }
    },
    {
      "cell_type": "code",
      "source": [
        "boys = ['Peter', 'Alex', 'John', 'Arthur', 'Richard']\n",
        "girls = ['Kate', 'Liza', 'Kira', 'Emma', 'Trisha']\n",
        "\n",
        "if len(boys) == len(girls):\n",
        "    boys.sort()\n",
        "    girls.sort()\n",
        "\n",
        "    print('Идеальные пары: ')\n",
        "    for boy, girl in zip(boys, girls):\n",
        "        print(f'{boy} и {girl}')\n",
        "else:\n",
        "    print('Внимание, кто-то может остаться без пары!')"
      ],
      "metadata": {
        "id": "u9E27hjL_OIF"
      },
      "execution_count": null,
      "outputs": []
    },
    {
      "cell_type": "markdown",
      "source": [
        "**Задание 4**\n",
        "\n",
        "У нас есть список, содержащий информацию о среднедневной температуре в Фаренгейтах за произвольный период по странам (структура данных в примере). Необходимо написать код, который рассчитает среднюю температуру за период в Цельсиях(!) для каждой страны.\n",
        "\n",
        "Пример работы программы:\n",
        "```\n",
        "countries_temperature = [\n",
        "[‘Thailand’, [75.2, 77, 78.8, 73.4, 68, 75.2, 77]],\n",
        "[‘Germany’, [57.2, 55.4, 59, 59, 53.6]],\n",
        "[‘Russia’, [35.6, 37.4, 39.2, 41, 42.8, 39.2, 35.6]],\n",
        "[‘Poland’, [50, 50, 53.6, 57.2, 55.4, 55.4]]\n",
        "]\n",
        "Результат:\n",
        "\n",
        "Средняя температура в странах:\n",
        "Thailand - 23.9 С\n",
        "Germany - 13.8 С\n",
        "Russia - 3.7 С\n",
        "Poland - 12.0 С\n",
        "```\n",
        "\n"
      ],
      "metadata": {
        "id": "TZaTLTITXcZA"
      }
    },
    {
      "cell_type": "code",
      "source": [
        "from statistics import mean\n",
        "\n",
        "countries_temperature = [\n",
        "    ['Thailand', [75.2, 77, 78.8, 73.4, 68, 75.2, 77]],\n",
        "    ['Germany', [57.2, 55.4, 59, 59, 53.6]],\n",
        "    ['Russia', [35.6, 37.4, 39.2, 41, 42.8, 39.2, 35.6]],\n",
        "    ['Poland', [50, 50, 53.6, 57.2, 55.4, 55.4]]\n",
        "]\n",
        "\n",
        "print('Средняя температура в странах: ')\n",
        "for country_temp in countries_temperature:\n",
        "    fahrenheit_avg = mean(country_temp[1])\n",
        "    celsius = round((fahrenheit_avg - 32)/1.8, 1)\n",
        "    print(f'{country_temp[0]} - {celsius}')\n"
      ],
      "metadata": {
        "id": "_2yIi_bYeICE"
      },
      "execution_count": null,
      "outputs": []
    },
    {
      "cell_type": "markdown",
      "source": [
        "**Задание 5 (необязательное)**\n",
        "\n",
        "Дан поток логов по количеству просмотренных страниц для каждого пользователя. Вам необходимо написать алгоритм, который считает среднее значение просмотров на пользователя. Т. е. надо посчитать отношение суммы всех просмотров к количеству уникальных пользователей.\n",
        "\n",
        "Примеры работы программы:\n",
        "```\n",
        "stream = [\n",
        "    '2018-01-01,user1,3',\n",
        "    '2018-01-07,user1,4',\n",
        "    '2018-03-29,user1,1',\n",
        "    '2018-04-04,user1,13',\n",
        "    '2018-01-05,user2,7',\n",
        "    '2018-06-14,user3,4',\n",
        "    '2018-07-02,user3,10',\n",
        "    '2018-03-21,user4,19',\n",
        "    '2018-03-22,user4,4',\n",
        "    '2018-04-22,user4,8',\n",
        "    '2018-05-03,user4,9',\n",
        "    '2018-05-11,user4,11',\n",
        "]\n",
        "```\n",
        "Результат:\n",
        "```\n",
        "Среднее количество просмотров на уникального пользователя: 23.25\n",
        "```\n",
        "```\n",
        "stream = [\n",
        "    '2018-01-01,user100,150',\n",
        "    '2018-01-07,user99,205',\n",
        "    '2018-03-29,user1001,81'\n",
        "]\n",
        "```\n",
        "Результат:\n",
        "```\n",
        "Среднее количество просмотров на уникального пользователя: 145.33\n",
        "```"
      ],
      "metadata": {
        "id": "hNKBojMbif19"
      }
    },
    {
      "cell_type": "code",
      "source": [
        "stream = [\n",
        "    '2018-01-01,user1,3',\n",
        "    '2018-01-07,user1,4',\n",
        "    '2018-03-29,user1,1',\n",
        "    '2018-04-04,user1,13',\n",
        "    '2018-01-05,user2,7',\n",
        "    '2018-06-14,user3,4',\n",
        "    '2018-07-02,user3,10',\n",
        "    '2018-03-21,user4,19',\n",
        "    '2018-03-22,user4,4',\n",
        "    '2018-04-22,user4,8',\n",
        "    '2018-05-03,user4,9',\n",
        "    '2018-05-11,user4,11',\n",
        "]\n",
        "\n",
        "\n",
        "def calculate_avg_number_views():\n",
        "    \"\"\" Вызов функции позволяет получить данные из списка по пользователям и их \n",
        "    количество просмотров за определенные даты. В полученном списке данные \n",
        "    содержатся в строковом значении, перечисленные через запятую. Их извлечение \n",
        "    из списка и последующего добавления в словарь, где ключ - user (уникальный \n",
        "    пользователь), значение - сумма количества его просмотров за все время, \n",
        "    подсчитывается среднее количество просмотров на уникального пользователя.\"\"\"\n",
        "    user_number = {}\n",
        "\n",
        "    for str_user in stream:\n",
        "        list_user = str_user.split(',')\n",
        "        user_number[list_user[1]] = user_number.get(list_user[1], 0) + int(list_user[2])\n",
        "\n",
        "    result = round(sum(user_number.values()) / len(user_number.keys()), 2)\n",
        "    return f'Среднее количество просмотров на уникального пользователя: {result}'\n",
        "\n",
        "\n",
        "calculate_avg_number_views()\n"
      ],
      "metadata": {
        "id": "NtFrE2bf2Iqd"
      },
      "execution_count": null,
      "outputs": []
    },
    {
      "cell_type": "markdown",
      "source": [
        "**Задание 6 (необязательное)**\n",
        "\n",
        "Необходимо у пользователя запрашивать набор чисел разделенных пробелом. В результате в отсортированном порядке должны выводиться числа, которые повторяются в вводе более одного раза.\n",
        "\n",
        "Примеры работы программы:\n",
        "1.\n",
        "```\n",
        "Введите числа:\n",
        "4 8 0 3 4 2 0 3\n",
        "Результат:\n",
        "0 3 4\n",
        "\n",
        "Введите числа:\n",
        "1 1 2 2 3 3\n",
        "Результат:\n",
        "1 2 3\n",
        "\n",
        "Введите числа:\n",
        "10 15 15 103 200 200 200 1 1 1 1 1 2 2 2\n",
        "Результат:\n",
        "1 2 15 200\n",
        "```"
      ],
      "metadata": {
        "id": "6nHAgxA6TQ--"
      }
    },
    {
      "cell_type": "code",
      "source": [
        "number = input('Ввведите числа через пробел: ')\n",
        "\n",
        "\n",
        "def print_duplicate_numbers():\n",
        "    \"\"\"Вызов функции позволяет запросить у пользователя набор чисел разделенных \n",
        "    пробелом. В результате в отсортированном порядке должны выводиться числа, \n",
        "    которые повторяются в вводе более одного раза.\"\"\"\n",
        "\n",
        "    if ' ' in number:\n",
        "        result = [int(x) for x in number.split(' ')]\n",
        "\n",
        "        list_sort_num = [num for num in sorted(result) if result.count(num) != 1]\n",
        "        unic_num_list = list(set(list_sort_num))\n",
        "\n",
        "        print(f'Результат: ')\n",
        "        for unic_num in unic_num_list:\n",
        "            print(unic_num, end=' ')\n",
        "    else:\n",
        "        print('Проверьте на корректность введенных ')\n",
        "\n",
        "\n",
        "print_duplicate_numbers()\n"
      ],
      "metadata": {
        "id": "sac98CiWbsjz"
      },
      "execution_count": null,
      "outputs": []
    }
  ]
}