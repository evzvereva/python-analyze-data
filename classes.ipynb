{
  "nbformat": 4,
  "nbformat_minor": 0,
  "metadata": {
    "colab": {
      "provenance": []
    },
    "kernelspec": {
      "name": "python3",
      "display_name": "Python 3"
    },
    "language_info": {
      "name": "python"
    }
  },
  "cells": [
    {
      "cell_type": "markdown",
      "source": [
        "### **Задание 1**\n",
        "Напишите функцию, которая возвращает название валюты (поле ‘Name’) с максимальным значением курса с помощью сервиса www.cbr-xml-daily.ru...ly_json.js"
      ],
      "metadata": {
        "id": "A_tAwCHBF3_p"
      }
    },
    {
      "cell_type": "code",
      "source": [
        "import requests\n"
      ],
      "metadata": {
        "id": "pwUYsyC5F_ox"
      },
      "execution_count": null,
      "outputs": []
    },
    {
      "cell_type": "code",
      "source": [
        "from rate_employee import Rate, Employee #  импортируем файл для получения "
      ],
      "metadata": {
        "id": "N0OSIp6gZYtd"
      },
      "execution_count": null,
      "outputs": []
    },
    {
      "cell_type": "code",
      "source": [
        "class MaxCurrency(Rate):\n",
        "    \"\"\"\n",
        "    Переиспользуется метод exchange_rates() класса Rate(), который возвращает \n",
        "    ответ сервиса с информацией о валютах в виде:\n",
        "        \n",
        "        {\n",
        "            'AMD': {\n",
        "                'CharCode': 'AMD',\n",
        "                'ID': 'R01060',\n",
        "                'Name': 'Армянских драмов',\n",
        "                'Nominal': 100,\n",
        "                'NumCode': '051',\n",
        "                'Previous': 14.103,\n",
        "                'Value': 14.0879\n",
        "                },\n",
        "            ...\n",
        "        }\n",
        "    \"\"\"\n",
        "    def __init__(self):\n",
        "        self.get_method_class = Rate().exchange_rates()\n",
        "\n",
        "    def get_max_currency(self):\n",
        "        \"\"\"\n",
        "        Возвращает название валюты (поле 'Name') с максимальным значением курса \n",
        "        с помощью сервиса http://www.cbr-xml-daily.ru...ly_json.js/\n",
        "        \"\"\"\n",
        "        # get_method_class = Rate().exchange_rates()\n",
        "\n",
        "        dict_currency_value = {}\n",
        "        for key, val in self.get_method_class.items():\n",
        "            dict_currency_value[key] = val['Value']\n",
        "\n",
        "        for key, val in dict_currency_value.items():\n",
        "            if max(dict_currency_value.values()) == val:\n",
        "                result = f'Название валюты: {key} - значение курса: {val}'\n",
        "                return result\n",
        "\n"
      ],
      "metadata": {
        "id": "CpnKc6bzatB5"
      },
      "execution_count": null,
      "outputs": []
    },
    {
      "cell_type": "code",
      "source": [
        "object_class = MaxCurrency() # получаем объект\n",
        "object_class.get_max_currency() # получаем метод объекта"
      ],
      "metadata": {
        "id": "gmt0pb2OeJWL",
        "colab": {
          "base_uri": "https://localhost:8080/",
          "height": 35
        },
        "outputId": "fd0c081e-bd79-4849-d14e-4001ab8c4b2d"
      },
      "execution_count": null,
      "outputs": [
        {
          "output_type": "execute_result",
          "data": {
            "text/plain": [
              "'Название валюты: DKK - значение курса: 84.758'"
            ],
            "application/vnd.google.colaboratory.intrinsic+json": {
              "type": "string"
            }
          },
          "metadata": {},
          "execution_count": 143
        }
      ]
    },
    {
      "cell_type": "markdown",
      "source": [
        "### **Задание 2**\n",
        "Добавьте в класс Rate параметр diff (со значениями True или False), который в случае значения True в методах курсов валют (eur, usd итд) будет возвращать не курс валюты, а изменение по сравнению в прошлым значением. Считайте, self.diff будет принимать значение True только при возврате значения курса. При отображении всей информации о валюте он не используется."
      ],
      "metadata": {
        "id": "QGZV3VK-1Gjc"
      }
    },
    {
      "cell_type": "code",
      "source": [
        "class Rate:\n",
        "    def __init__(self, format_='value', diff=True):\n",
        "        self.format = format_\n",
        "        self.diff = diff\n",
        "\n",
        "    \n",
        "    def exchange_rates(self):\n",
        "        \"\"\"\n",
        "        Возвращает ответ сервиса с информацией о валютах в виде:\n",
        "        \n",
        "        {\n",
        "            'AMD': {\n",
        "                'CharCode': 'AMD',\n",
        "                'ID': 'R01060',\n",
        "                'Name': 'Армянских драмов',\n",
        "                'Nominal': 100,\n",
        "                'NumCode': '051',\n",
        "                'Previous': 14.103,\n",
        "                'Value': 14.0879\n",
        "                },\n",
        "            ...\n",
        "        }\n",
        "        \"\"\"\n",
        "        self.r = requests.get('https://www.cbr-xml-daily.ru/daily_json.js')\n",
        "        return self.r.json()['Valute']\n",
        "    \n",
        "    def make_format(self, currency):\n",
        "        \"\"\"\n",
        "        Возвращает информацию о валюте currency в двух вариантах:\n",
        "        - полная информация о валюте при self.format = 'full':\n",
        "        Rate('full').make_format('EUR')\n",
        "        {\n",
        "            'CharCode': 'EUR',\n",
        "            'ID': 'R01239',\n",
        "            'Name': 'Евро',\n",
        "            'Nominal': 1,\n",
        "            'NumCode': '978',\n",
        "            'Previous': 79.6765,\n",
        "            'Value': 79.4966\n",
        "        }\n",
        "        \n",
        "        Rate('value').make_format('EUR')\n",
        "        79.4966\n",
        "        \"\"\"\n",
        "        response = self.exchange_rates()\n",
        "        \n",
        "        if currency in response:\n",
        "            if self.format == 'full':\n",
        "                return response[currency]\n",
        "            \n",
        "            if self.format == 'value' and self.diff == True:\n",
        "                # если результат отрицательный, то текущи курс стал ниже предыдущего\n",
        "                # при положительном результате - вырос\n",
        "                return f\"Разница между текущим и предыдущим курсом {response[currency]['CharCode']}: {response[currency]['Value'] - response[currency]['Previous']}\"\n",
        "            elif self.format == 'value' and self.diff == False:\n",
        "                return response[currency]['Value']\n",
        "        \n",
        "        return 'Error'\n",
        "    \n",
        "    def eur(self):\n",
        "        \"\"\"Возвращает курс евро на сегодня в формате self.format\"\"\"\n",
        "        return self.make_format('EUR')\n",
        "    \n",
        "    def usd(self):\n",
        "        \"\"\"Возвращает курс доллара на сегодня в формате self.format\"\"\"\n",
        "        return self.make_format('USD')\n",
        "    \n",
        "    def brl(self):\n",
        "        \"\"\"Возвращает курс бразильского реала на сегодня в формате self.format\"\"\"\n",
        "        return self.make_format('BRL')"
      ],
      "metadata": {
        "id": "JCxc3U3Z1N8U"
      },
      "execution_count": null,
      "outputs": []
    },
    {
      "cell_type": "code",
      "source": [
        "c = Rate()"
      ],
      "metadata": {
        "id": "FwW_6y744U7I"
      },
      "execution_count": null,
      "outputs": []
    },
    {
      "cell_type": "code",
      "source": [
        "c.eur()"
      ],
      "metadata": {
        "colab": {
          "base_uri": "https://localhost:8080/",
          "height": 35
        },
        "id": "ZGBYwaI9Ap5W",
        "outputId": "29cc9dbd-c832-45b8-c076-d23cb2a20b2d"
      },
      "execution_count": null,
      "outputs": [
        {
          "output_type": "execute_result",
          "data": {
            "text/plain": [
              "'Разница между текущим и предыдущим курсом EUR: 0.4246000000000052'"
            ],
            "application/vnd.google.colaboratory.intrinsic+json": {
              "type": "string"
            }
          },
          "metadata": {},
          "execution_count": 65
        }
      ]
    },
    {
      "cell_type": "code",
      "source": [
        "c.brl()"
      ],
      "metadata": {
        "colab": {
          "base_uri": "https://localhost:8080/",
          "height": 35
        },
        "id": "CmQpKhitArIK",
        "outputId": "1535d00b-386e-4b28-95ed-6ed70d7658ec"
      },
      "execution_count": null,
      "outputs": [
        {
          "output_type": "execute_result",
          "data": {
            "text/plain": [
              "'Разница между текущим и предыдущим курсом BRL: -0.025399999999999423'"
            ],
            "application/vnd.google.colaboratory.intrinsic+json": {
              "type": "string"
            }
          },
          "metadata": {},
          "execution_count": 66
        }
      ]
    },
    {
      "cell_type": "code",
      "source": [
        "c.usd()"
      ],
      "metadata": {
        "colab": {
          "base_uri": "https://localhost:8080/",
          "height": 35
        },
        "id": "ml7zQ3s_AuLi",
        "outputId": "89113b53-7873-4537-c69d-d96c6d475ccb"
      },
      "execution_count": null,
      "outputs": [
        {
          "output_type": "execute_result",
          "data": {
            "text/plain": [
              "'Разница между текущим и предыдущим курсом USD: 0.2723000000000013'"
            ],
            "application/vnd.google.colaboratory.intrinsic+json": {
              "type": "string"
            }
          },
          "metadata": {},
          "execution_count": 67
        }
      ]
    },
    {
      "cell_type": "markdown",
      "source": [
        "### **Задание 3**\n",
        "Напишите класс Designer, который учитывает количество международных премий. Подсказки в коде занятия в разделе “Домашнее задание задача 3”.\n",
        "\n",
        "### Комментарий по классу Designer такой:\n",
        "Напишите класс Designer, который учитывает количество международных премий для дизайнеров (из презентации: “Повышение на 1 грейд за каждые 7 баллов. Получение международной премии – это +2 балла”). Считайте, что при выходе на работу сотрудник уже имеет две премии и их количество не меняется со стажем (конечно если хотите это можно вручную менять).\n",
        "\n",
        "Класс Designer пишется по аналогии с классом Developer из материалов занятия."
      ],
      "metadata": {
        "id": "dWxz2Z0UAzDD"
      }
    },
    {
      "cell_type": "code",
      "source": [
        "class Designer(Employee):\n",
        "    \"\"\"\n",
        "    Позволяет учитывать количество международных премий. Одна межднародная \n",
        "    премия = 2 баллам. По умолчанию, при выходе на работу сотрудник уже имеет \n",
        "    две международные премии.\n",
        "    \"\"\"\n",
        "\n",
        "\n",
        "    def __init__(self, name, seniority, international_award=2):\n",
        "        super().__init__(name, seniority)\n",
        "\n",
        "        # учитываем, что при выходе на работу сотрудник имеет уже 2 премии\n",
        "        self.international_award = international_award\n",
        "\n",
        "        # одна международная премия = 2 балла\n",
        "        self.seniority = seniority + (international_award * 2) \n",
        "\n",
        "        \n",
        "    def check_if_it_is_time_for_upgrade(self):\n",
        "        \"\"\"\n",
        "        Позволяет получить результат повышения сотрудника.\n",
        "        \"\"\"\n",
        "\n",
        "        # для каждой аккредитации увеличиваем счетчик на 1\n",
        "        # считаем, что все дизайнеры аккредитацию\n",
        "        self.seniority += 1\n",
        "\n",
        "        # условие повышения сотрудника\n",
        "        if self.seniority % 7 == 0:\n",
        "            return self.grade_up()\n",
        "\n",
        "        # публикация результатов\n",
        "        return self.publish_grade()\n"
      ],
      "metadata": {
        "id": "TuqptkWDA7nb"
      },
      "execution_count": null,
      "outputs": []
    },
    {
      "cell_type": "code",
      "source": [
        "alex = Designer('Александр', 2)\n",
        "alex.check_if_it_is_time_for_upgrade()"
      ],
      "metadata": {
        "id": "b7trjKVcQRKX"
      },
      "execution_count": null,
      "outputs": []
    },
    {
      "cell_type": "code",
      "source": [
        "for i in range(21):\n",
        "    alex.check_if_it_is_time_for_upgrade()"
      ],
      "metadata": {
        "id": "EUrjQic7mueX",
        "colab": {
          "base_uri": "https://localhost:8080/"
        },
        "outputId": "cae7918c-68e2-481b-930d-7b105076939f"
      },
      "execution_count": null,
      "outputs": [
        {
          "output_type": "stream",
          "name": "stdout",
          "text": [
            "Александр 2\n",
            "Александр 2\n",
            "Александр 2\n",
            "Александр 2\n",
            "Александр 2\n",
            "Александр 2\n",
            "Александр 3\n",
            "Александр 3\n",
            "Александр 3\n",
            "Александр 3\n",
            "Александр 3\n",
            "Александр 3\n",
            "Александр 4\n",
            "Александр 4\n",
            "Александр 4\n",
            "Александр 4\n",
            "Александр 4\n",
            "Александр 4\n"
          ]
        }
      ]
    }
  ]
}